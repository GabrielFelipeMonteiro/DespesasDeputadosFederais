{
 "cells": [
  {
   "cell_type": "code",
   "execution_count": 2,
   "metadata": {},
   "outputs": [],
   "source": [
    "import polars as pl"
   ]
  },
  {
   "cell_type": "code",
   "execution_count": 107,
   "metadata": {},
   "outputs": [],
   "source": [
    "# Carga geral dos arquivos.csv\n",
    "path = \"C:/Users/gabri/Downloads/despesas/Ano-*.csv\"\n",
    "df = pl.scan_csv(path, separator=';', \n",
    "                 infer_schema_length=1000\n",
    "                 ).filter(pl.col(\"codLegislatura\") > 55\n",
    "                 ).collect()\n",
    "\n",
    "# Expressão auxiliar para verificar valores duplicados\n",
    "# df.filter(pl.count(\"ideDocumento\").over(df.columns) > 1)"
   ]
  },
  {
   "cell_type": "code",
   "execution_count": 108,
   "metadata": {},
   "outputs": [
    {
     "data": {
      "text/html": [
       "<div><style>\n",
       ".dataframe > thead > tr > th,\n",
       ".dataframe > tbody > tr > td {\n",
       "  text-align: right;\n",
       "  white-space: pre-wrap;\n",
       "}\n",
       "</style>\n",
       "<small>shape: (5, 22)</small><table border=\"1\" class=\"dataframe\"><thead><tr><th>txNomeParlamentar</th><th>ideCadastro</th><th>sgUF</th><th>sgPartido</th><th>txtDescricao</th><th>txtDescricaoEspecificacao</th><th>txtFornecedor</th><th>txtCNPJCPF</th><th>txtNumero</th><th>indTipoDocumento</th><th>datEmissao</th><th>vlrDocumento</th><th>vlrGlosa</th><th>vlrLiquido</th><th>numMes</th><th>numAno</th><th>numParcela</th><th>txtPassageiro</th><th>txtTrecho</th><th>numLote</th><th>ideDocumento</th><th>urlDocumento</th></tr><tr><td>str</td><td>str</td><td>str</td><td>str</td><td>str</td><td>str</td><td>str</td><td>str</td><td>str</td><td>i64</td><td>datetime[μs]</td><td>f64</td><td>f64</td><td>f64</td><td>i64</td><td>i64</td><td>i64</td><td>str</td><td>str</td><td>i64</td><td>i64</td><td>str</td></tr></thead><tbody><tr><td>&quot;DR. FREDERICO&quot;</td><td>&quot;204518&quot;</td><td>&quot;MG&quot;</td><td>&quot;PATRIOTA&quot;</td><td>&quot;MANUTENÇÃO DE …</td><td>&quot;NA&quot;</td><td>&quot;SEC MÓVEIS LTD…</td><td>&quot;222.188.790/00…</td><td>&quot;3279&quot;</td><td>0</td><td>2021-10-30 00:00:00</td><td>1985.0</td><td>0.0</td><td>1985.0</td><td>10</td><td>2021</td><td>0</td><td>&quot;NA&quot;</td><td>&quot;NA&quot;</td><td>1811076</td><td>7293605</td><td>&quot;HTTPS://WWW.CA…</td></tr><tr><td>&quot;CARLOS SAMPAIO…</td><td>&quot;74262&quot;</td><td>&quot;SP&quot;</td><td>&quot;PSDB&quot;</td><td>&quot;PASSAGEM AÉREA…</td><td>&quot;NA&quot;</td><td>&quot;CIA AÉREA - AZ…</td><td>&quot;092.962.950/00…</td><td>&quot;BILHETE: GJ91S…</td><td>0</td><td>2023-03-01 00:00:00</td><td>208.27</td><td>0.0</td><td>208.27</td><td>3</td><td>2023</td><td>0</td><td>&quot;ANDERSON ALEXA…</td><td>&quot;BSB/VCP&quot;</td><td>0</td><td>1775546</td><td>&quot;NA&quot;</td></tr><tr><td>&quot;DA VITORIA&quot;</td><td>&quot;204355&quot;</td><td>&quot;ES&quot;</td><td>&quot;PP&quot;</td><td>&quot;PASSAGEM AÉREA…</td><td>&quot;NA&quot;</td><td>&quot;CIA AÉREA - TA…</td><td>&quot;020.128.620/00…</td><td>&quot;BILHETE: 957-2…</td><td>0</td><td>2021-06-11 00:00:00</td><td>559.0</td><td>0.0</td><td>559.0</td><td>6</td><td>2021</td><td>0</td><td>&quot;DA VITORIA&quot;</td><td>&quot;VIX/BSB&quot;</td><td>0</td><td>1753089</td><td>&quot;NA&quot;</td></tr><tr><td>&quot;FLAVIANO MELO&quot;</td><td>&quot;141434&quot;</td><td>&quot;AC&quot;</td><td>&quot;MDB&quot;</td><td>&quot;HOSPEDAGEM ,EX…</td><td>&quot;NA&quot;</td><td>&quot;D. M. S. FILHO…</td><td>&quot;155.417.830/00…</td><td>&quot;42&quot;</td><td>0</td><td>2019-08-25 00:00:00</td><td>140.0</td><td>0.0</td><td>140.0</td><td>8</td><td>2019</td><td>0</td><td>&quot;NA&quot;</td><td>&quot;NA&quot;</td><td>1627319</td><td>6904879</td><td>&quot;HTTPS://WWW.CA…</td></tr><tr><td>&quot;DANIEL FREITAS…</td><td>&quot;204367&quot;</td><td>&quot;SC&quot;</td><td>&quot;PL&quot;</td><td>&quot;COMBUSTÍVEIS E…</td><td>&quot;VEÍCULOS AUTOM…</td><td>&quot;CASCOL COMBUST…</td><td>&quot;003.065.970/06…</td><td>&quot;440091&quot;</td><td>4</td><td>2019-08-28 00:00:00</td><td>230.68</td><td>0.0</td><td>230.68</td><td>8</td><td>2019</td><td>0</td><td>&quot;NA&quot;</td><td>&quot;NA&quot;</td><td>1628544</td><td>6907803</td><td>&quot;HTTPS://WWW.CA…</td></tr></tbody></table></div>"
      ],
      "text/plain": [
       "shape: (5, 22)\n",
       "┌─────────────┬─────────────┬──────┬───────────┬───┬───────────┬─────────┬────────────┬────────────┐\n",
       "│ txNomeParla ┆ ideCadastro ┆ sgUF ┆ sgPartido ┆ … ┆ txtTrecho ┆ numLote ┆ ideDocumen ┆ urlDocumen │\n",
       "│ mentar      ┆ ---         ┆ ---  ┆ ---       ┆   ┆ ---       ┆ ---     ┆ to         ┆ to         │\n",
       "│ ---         ┆ str         ┆ str  ┆ str       ┆   ┆ str       ┆ i64     ┆ ---        ┆ ---        │\n",
       "│ str         ┆             ┆      ┆           ┆   ┆           ┆         ┆ i64        ┆ str        │\n",
       "╞═════════════╪═════════════╪══════╪═══════════╪═══╪═══════════╪═════════╪════════════╪════════════╡\n",
       "│ DR.         ┆ 204518      ┆ MG   ┆ PATRIOTA  ┆ … ┆ NA        ┆ 1811076 ┆ 7293605    ┆ HTTPS://WW │\n",
       "│ FREDERICO   ┆             ┆      ┆           ┆   ┆           ┆         ┆            ┆ W.CAMARA.L │\n",
       "│             ┆             ┆      ┆           ┆   ┆           ┆         ┆            ┆ EG.BR/COTA │\n",
       "│             ┆             ┆      ┆           ┆   ┆           ┆         ┆            ┆ -P…        │\n",
       "│ CARLOS      ┆ 74262       ┆ SP   ┆ PSDB      ┆ … ┆ BSB/VCP   ┆ 0       ┆ 1775546    ┆ NA         │\n",
       "│ SAMPAIO     ┆             ┆      ┆           ┆   ┆           ┆         ┆            ┆            │\n",
       "│ DA VITORIA  ┆ 204355      ┆ ES   ┆ PP        ┆ … ┆ VIX/BSB   ┆ 0       ┆ 1753089    ┆ NA         │\n",
       "│ FLAVIANO    ┆ 141434      ┆ AC   ┆ MDB       ┆ … ┆ NA        ┆ 1627319 ┆ 6904879    ┆ HTTPS://WW │\n",
       "│ MELO        ┆             ┆      ┆           ┆   ┆           ┆         ┆            ┆ W.CAMARA.L │\n",
       "│             ┆             ┆      ┆           ┆   ┆           ┆         ┆            ┆ EG.BR/COTA │\n",
       "│             ┆             ┆      ┆           ┆   ┆           ┆         ┆            ┆ -P…        │\n",
       "│ DANIEL      ┆ 204367      ┆ SC   ┆ PL        ┆ … ┆ NA        ┆ 1628544 ┆ 6907803    ┆ HTTPS://WW │\n",
       "│ FREITAS     ┆             ┆      ┆           ┆   ┆           ┆         ┆            ┆ W.CAMARA.L │\n",
       "│             ┆             ┆      ┆           ┆   ┆           ┆         ┆            ┆ EG.BR/COTA │\n",
       "│             ┆             ┆      ┆           ┆   ┆           ┆         ┆            ┆ -P…        │\n",
       "└─────────────┴─────────────┴──────┴───────────┴───┴───────────┴─────────┴────────────┴────────────┘"
      ]
     },
     "execution_count": 108,
     "metadata": {},
     "output_type": "execute_result"
    }
   ],
   "source": [
    "\"\"\" Parte das colunas do dataset foram excluídas, por ausência dos dados.\n",
    "    Colunas como numRessarcimento, vlrRestituição, dataPagamentoRestituicao\n",
    "    que ao meu ver seriam importantes de termos, constam todas com valores\n",
    "    vazios. Colunas não relacionadas  à despesas foram removidas. \"\"\"\n",
    "\n",
    "dropColumns = df.select([\n",
    "                      pl.all().exclude(\n",
    "                      \"cpf\", \"nuCarteiraParlamentar\", \"numRessarcimento\", \n",
    "                      \"datPagamentoRestituicao\", \"nuDeputadoId\",\n",
    "                      \"codLegislatura\", \"numSubCota\", \"numEspecificacaoSubCota\", \n",
    "                      \"vlrRestituicao\", \"nuLegislatura\"\n",
    "                  )])\n",
    "\n",
    "\n",
    "\n",
    "\"\"\" Etapa da Transformação que substitui as strings vazias por um \n",
    "    valor nulo <null>, mais apropriado para futuras consultas à ba\n",
    "    -se, como -> DataFrame.null_count() e verificações se necessá-\n",
    "    rio. Com os valores de string vazia <\"\"> determinadas consultas\n",
    "    não seriam executadas da maneira como planejado. \"\"\"\n",
    "\n",
    "stringVaziaToNull = dropColumns.with_columns([\n",
    "                        pl.when(pl.col(pl.Utf8).str.len_bytes() ==0)\n",
    "                        .then(pl.lit(\"NA\"))\n",
    "                        .when(pl.col(pl.Float64).len() ==0)\n",
    "                        .then(0.0)\n",
    "                        .when(pl.col(pl.Int64).len() ==0)\n",
    "                        .then(0)\n",
    "                        .otherwise(pl.col(pl.Utf8))\n",
    "                        .name.keep()\n",
    "                    ])\n",
    "\n",
    "\n",
    "\n",
    "\"\"\" Etapa da Transformação em que os espaços no início, meio e fim\n",
    "    das strings do dataset são removidos. Justamante para fins de \n",
    "    padronização do conteúdo das strings. \"\"\"\n",
    "\n",
    "stringCleanExtraSpaces = stringVaziaToNull.with_columns([\n",
    "                             pl.when(pl.col(pl.Utf8).str.len_bytes() != 0)\n",
    "                             .then(pl.col(pl.Utf8).str.replace_all(r\"\\s{2,}\", \" \").str.strip_chars())\n",
    "                             .otherwise(pl.col(pl.Utf8))\n",
    "                             .name.keep()\n",
    "                         ])\n",
    "\n",
    "\"\"\" Formatando a coluna de data emissao que estava no formato string\n",
    "    Utf8 para o formato de Datetime \"\"\"\n",
    "\n",
    "strToDatetime = stringCleanExtraSpaces.with_columns([\n",
    "                    pl.col(\"datEmissao\").str.strptime(pl.Datetime, strict=False).name.keep()\n",
    "                ])\n",
    "\n",
    "\n",
    "\n",
    "\"\"\" Padronizando as strings para todos os caracteres em maiúsculo.\n",
    "    Dessa forma, não teremos problemas em relação a diferenciação\n",
    "    de nomes quando determinadas colunas (ex: 'NomeParlamentar')\n",
    "    forem analisadas. \"\"\"\n",
    "\n",
    "stringUpperCase = strToDatetime.with_columns([\n",
    "                      pl.col(pl.Utf8).str.to_uppercase()\n",
    "                      .name.keep()\n",
    "                  ])\n",
    "\n",
    "\n",
    "stringUpperCase.sample(5)"
   ]
  },
  {
   "cell_type": "code",
   "execution_count": null,
   "metadata": {},
   "outputs": [],
   "source": []
  }
 ],
 "metadata": {
  "kernelspec": {
   "display_name": "Python 3 (ipykernel)",
   "language": "python",
   "name": "python3"
  },
  "language_info": {
   "codemirror_mode": {
    "name": "ipython",
    "version": 3
   },
   "file_extension": ".py",
   "mimetype": "text/x-python",
   "name": "python",
   "nbconvert_exporter": "python",
   "pygments_lexer": "ipython3",
   "version": "3.11.3"
  }
 },
 "nbformat": 4,
 "nbformat_minor": 2
}
