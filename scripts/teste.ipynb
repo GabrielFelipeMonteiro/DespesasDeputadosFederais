{
 "cells": [
  {
   "cell_type": "code",
   "execution_count": null,
   "metadata": {},
   "outputs": [],
   "source": [
    "import polars as pl\n",
    "import pandas as pd\n",
    "from functions import getDespesaStg, transformDespesas, loadDespesasFinal\n",
    "import json \n",
    "import time\n",
    "from connDb import path_db"
   ]
  },
  {
   "cell_type": "code",
   "execution_count": null,
   "metadata": {},
   "outputs": [],
   "source": [
    "def getRedeSocialStg() -> pl.LazyFrame:\n",
    "    \"\"\" Lendo os dados da tabela  stg_deputados e  filtrando as redes  sociais  \n",
    "        nulas (5 é  um valor arbitrário, com 2 já é possível filtrar os nulos)\n",
    "    \"\"\"\n",
    "    df = (\n",
    "            pl.read_database_uri('SELECT \"id\", \"redeSocial\" from stg_deputados', path_db)\n",
    "            .filter(pl.col(\"redeSocial\")\n",
    "            .str.len_bytes() > 5)\n",
    "            .lazy()\n",
    "    )\n",
    "\n",
    "    return df"
   ]
  }
 ],
 "metadata": {
  "kernelspec": {
   "display_name": "base",
   "language": "python",
   "name": "python3"
  },
  "language_info": {
   "codemirror_mode": {
    "name": "ipython",
    "version": 3
   },
   "file_extension": ".py",
   "mimetype": "text/x-python",
   "name": "python",
   "nbconvert_exporter": "python",
   "pygments_lexer": "ipython3",
   "version": "3.11.3"
  }
 },
 "nbformat": 4,
 "nbformat_minor": 2
}
