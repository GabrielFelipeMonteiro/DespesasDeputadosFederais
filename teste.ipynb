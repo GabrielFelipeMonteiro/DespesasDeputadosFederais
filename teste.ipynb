{
 "cells": [
  {
   "cell_type": "code",
   "execution_count": 1,
   "metadata": {},
   "outputs": [],
   "source": [
    "import polars as pl\n",
    "import pandas as pd\n",
    "from functions import stringVaziaToNull, stringCleanExtraSpaces, stringLowerCase\n",
    "import json \n",
    "import time\n",
    "from connDb import path_db"
   ]
  },
  {
   "cell_type": "code",
   "execution_count": 2,
   "metadata": {},
   "outputs": [],
   "source": [
    "def getRedeSocialStg() -> pl.LazyFrame:\n",
    "    \"\"\" Lendo os dados da tabela  stg_deputados e  filtrando as redes  sociais  \n",
    "        nulas (5 é  um valor arbitrário, com 2 já é possível filtrar os nulos)\n",
    "    \"\"\"\n",
    "    df = (\n",
    "            pl.read_database_uri('SELECT \"id\", \"redeSocial\" from stg_deputados', path_db)\n",
    "            .filter(pl.col(\"redeSocial\")\n",
    "            .str.len_bytes() > 5)\n",
    "            .lazy()\n",
    "    )\n",
    "\n",
    "    return df"
   ]
  },
  {
   "cell_type": "code",
   "execution_count": 3,
   "metadata": {},
   "outputs": [],
   "source": [
    "\n",
    "def transformRedeSocial(df: pl.LazyFrame) -> pl.DataFrame:\n",
    "    \"\"\" Normalizando a coluna de Redes Sociais removendo caracteres especiais e divid\n",
    "        -indo as urls por ','. Depois adicionando um contador que é utilizado em   se\n",
    "        -guida para repetir o Id em uma lista correspondente às urls. Depois  explodi\n",
    "        -mos as duas listas, resultando em uma tabela de mapeamento, onde cada url de\n",
    "        rede social corresponde a um Id de deputado.\n",
    "    \"\"\"\n",
    "    ldf = (\n",
    "            df.with_columns(\n",
    "                pl.col(\"redeSocial\")\n",
    "                .str.replace_all(r'[\\[\\]\"]', '')\n",
    "                .str.split(\", \")\n",
    "            )\n",
    "            .with_columns(\n",
    "                count=pl.col(\"redeSocial\")\n",
    "                .list.len()\n",
    "            )\n",
    "            .select(\n",
    "                pl.col(\"id\").repeat_by(pl.col(\"count\")).alias(\"id_deputado\"),\n",
    "                pl.col(\"redeSocial\")\n",
    "            )\n",
    "            .explode(\"id_deputado\", \"redeSocial\")\n",
    "            .with_columns(\n",
    "                pl.col(\"id_deputado\").cast(pl.Int64)\n",
    "            )\n",
    "    )\n",
    "    \n",
    "    ldf = stringVaziaToNull(ldf)\n",
    "    \n",
    "    ldf = stringCleanExtraSpaces(ldf)\n",
    "    \n",
    "    ldf = stringLowerCase(ldf)\n",
    "    \n",
    "    return ldf.collect()\n"
   ]
  },
  {
   "cell_type": "code",
   "execution_count": 4,
   "metadata": {},
   "outputs": [],
   "source": [
    "def loadRedeSocial(df:pl.DataFrame) -> None:\n",
    "    \"\"\" Carregando os dados tratados na tabela final 'rede_social',\n",
    "        apta para ser utilizada em análises futuras. \n",
    "    \"\"\"\n",
    "    try:\n",
    "        df.write_database(\"rede_social\", path_db, if_exists=\"replace\", engine=\"sqlalchemy\")\n",
    "    \n",
    "    except:\n",
    "        print(\"Erro ao carregar dados na tabela 'rede_social'\\n\")\n",
    "        time.sleep(1)\n",
    "    \n",
    "    else:\n",
    "        print(\"Sucesso ao carregar dados na tabela 'rede_social'\\n\")"
   ]
  },
  {
   "cell_type": "code",
   "execution_count": 5,
   "metadata": {},
   "outputs": [],
   "source": [
    "def getDeputadosStg() -> pd.DataFrame:\n",
    "    \"\"\" Lendo os dados da tabela  stg_deputados, que será utilizada para norma- \n",
    "        lização da coluna de 'ultimoStatus', que em sua origem se encontra no\n",
    "        formato de string json\n",
    "    \"\"\"\n",
    "    df = pd.read_sql_query('SELECT * from stg_deputados', path_db)\n",
    "\n",
    "    return df\n",
    "\n"
   ]
  },
  {
   "cell_type": "code",
   "execution_count": 6,
   "metadata": {},
   "outputs": [],
   "source": [
    "def transformDeputados(df:pd.DataFrame) -> pl.DataFrame:\n",
    "    \"\"\" Realizando as etapas de limpeza e transformação da tabela de deputados.\n",
    "        A princípio estaremos normalizando a coluna 'ultimoStatus', passando-a\n",
    "        do formato string json para novos conjuntos de colunas. Nesta  etapa a\n",
    "        solução mais prática foi adquirida através do Pandas, poréma as etapas\n",
    "        seguintes (de limpeza e padronização das demais strings) foram realiza-\n",
    "        das utilizando expressões do Polars  (uma biblioteca mais perfomática)\n",
    "    \"\"\"\n",
    "    df['ultimoStatus'] = df['ultimoStatus'].apply(json.loads)\n",
    "    \n",
    "    df = pd.concat([df.drop(['ultimoStatus'], axis=1), df['ultimoStatus'].apply(pd.Series)], axis=1).drop(columns=['gabinete'])\n",
    "\n",
    "    ldf = pl.LazyFrame(df)\n",
    "    \n",
    "    ldf = stringVaziaToNull(ldf)\n",
    "    \n",
    "    ldf = stringCleanExtraSpaces(ldf)\n",
    "    \n",
    "    ldf = stringLowerCase(ldf)\n",
    "\n",
    "    return ldf.collect()"
   ]
  },
  {
   "cell_type": "code",
   "execution_count": 7,
   "metadata": {},
   "outputs": [],
   "source": [
    "def loadDeputados(df:pl.DataFrame) -> None:\n",
    "    \"\"\" Carregando os dados tratados na tabela final 'deputados', \n",
    "        apta para ser utilizada em análises futuras. \n",
    "    \"\"\"\n",
    "    try:\n",
    "        df.write_database(\"deputados\", path_db, if_exists=\"replace\", engine=\"sqlalchemy\")\n",
    "    \n",
    "    except:\n",
    "        print(\"Erro ao carregar dados na tabela 'deputados'\\n\")\n",
    "        time.sleep(1)\n",
    "    \n",
    "    else:\n",
    "        print(\"Sucesso ao carregar dados na tabela 'deputados'\\n\")\n",
    "\n"
   ]
  },
  {
   "cell_type": "code",
   "execution_count": 8,
   "metadata": {},
   "outputs": [
    {
     "name": "stdout",
     "output_type": "stream",
     "text": [
      "Sucesso ao carregar dados na tabela 'rede_social'\n",
      "\n"
     ]
    }
   ],
   "source": [
    "df = getRedeSocialStg()\n",
    "df = transformRedeSocial(df)\n",
    "loadRedeSocial(df)\n"
   ]
  }
 ],
 "metadata": {
  "kernelspec": {
   "display_name": "base",
   "language": "python",
   "name": "python3"
  },
  "language_info": {
   "codemirror_mode": {
    "name": "ipython",
    "version": 3
   },
   "file_extension": ".py",
   "mimetype": "text/x-python",
   "name": "python",
   "nbconvert_exporter": "python",
   "pygments_lexer": "ipython3",
   "version": "3.11.3"
  }
 },
 "nbformat": 4,
 "nbformat_minor": 2
}
