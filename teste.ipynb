{
 "cells": [
  {
   "cell_type": "code",
   "execution_count": 3,
   "metadata": {},
   "outputs": [
    {
     "name": "stdout",
     "output_type": "stream",
     "text": [
      "[]\n"
     ]
    },
    {
     "ename": "KeyError",
     "evalue": "'postgresql'",
     "output_type": "error",
     "traceback": [
      "\u001b[1;31m---------------------------------------------------------------------------\u001b[0m",
      "\u001b[1;31mKeyError\u001b[0m                                  Traceback (most recent call last)",
      "\u001b[1;32mc:\\Users\\gabri\\OneDrive\\Documentos\\ScriptsPython\\ProjetosDeEstudo\\CamaraDosDeputados\\DespesasDeputadosFederais\\teste.ipynb Cell 1\u001b[0m line \u001b[0;36m3\n\u001b[0;32m      <a href='vscode-notebook-cell:/c%3A/Users/gabri/OneDrive/Documentos/ScriptsPython/ProjetosDeEstudo/CamaraDosDeputados/DespesasDeputadosFederais/teste.ipynb#W0sZmlsZQ%3D%3D?line=0'>1</a>\u001b[0m \u001b[39mimport\u001b[39;00m \u001b[39mpolars\u001b[39;00m \u001b[39mas\u001b[39;00m \u001b[39mpl\u001b[39;00m\n\u001b[0;32m      <a href='vscode-notebook-cell:/c%3A/Users/gabri/OneDrive/Documentos/ScriptsPython/ProjetosDeEstudo/CamaraDosDeputados/DespesasDeputadosFederais/teste.ipynb#W0sZmlsZQ%3D%3D?line=1'>2</a>\u001b[0m \u001b[39mimport\u001b[39;00m \u001b[39mpandas\u001b[39;00m \u001b[39mas\u001b[39;00m \u001b[39mpd\u001b[39;00m\n\u001b[1;32m----> <a href='vscode-notebook-cell:/c%3A/Users/gabri/OneDrive/Documentos/ScriptsPython/ProjetosDeEstudo/CamaraDosDeputados/DespesasDeputadosFederais/teste.ipynb#W0sZmlsZQ%3D%3D?line=2'>3</a>\u001b[0m \u001b[39mfrom\u001b[39;00m \u001b[39mfunctions\u001b[39;00m \u001b[39mimport\u001b[39;00m stringVaziaToNull, stringCleanExtraSpaces, stringLowerCase\n\u001b[0;32m      <a href='vscode-notebook-cell:/c%3A/Users/gabri/OneDrive/Documentos/ScriptsPython/ProjetosDeEstudo/CamaraDosDeputados/DespesasDeputadosFederais/teste.ipynb#W0sZmlsZQ%3D%3D?line=3'>4</a>\u001b[0m \u001b[39mimport\u001b[39;00m \u001b[39mjson\u001b[39;00m \n\u001b[0;32m      <a href='vscode-notebook-cell:/c%3A/Users/gabri/OneDrive/Documentos/ScriptsPython/ProjetosDeEstudo/CamaraDosDeputados/DespesasDeputadosFederais/teste.ipynb#W0sZmlsZQ%3D%3D?line=4'>5</a>\u001b[0m \u001b[39mimport\u001b[39;00m \u001b[39mtime\u001b[39;00m\n",
      "File \u001b[1;32mc:\\Users\\gabri\\OneDrive\\Documentos\\ScriptsPython\\ProjetosDeEstudo\\CamaraDosDeputados\\DespesasDeputadosFederais\\functions.py:4\u001b[0m\n\u001b[0;32m      2\u001b[0m \u001b[39mimport\u001b[39;00m \u001b[39mpolars\u001b[39;00m \u001b[39mas\u001b[39;00m \u001b[39mpl\u001b[39;00m\n\u001b[0;32m      3\u001b[0m \u001b[39mimport\u001b[39;00m \u001b[39mpandas\u001b[39;00m \u001b[39mas\u001b[39;00m \u001b[39mpd\u001b[39;00m\n\u001b[1;32m----> 4\u001b[0m \u001b[39mfrom\u001b[39;00m \u001b[39mconnDb\u001b[39;00m \u001b[39mimport\u001b[39;00m path_db, engine\n\u001b[0;32m      5\u001b[0m \u001b[39mimport\u001b[39;00m \u001b[39mconfigparser\u001b[39;00m\n\u001b[0;32m      6\u001b[0m config \u001b[39m=\u001b[39m configparser\u001b[39m.\u001b[39mConfigParser()\n",
      "File \u001b[1;32mc:\\Users\\gabri\\OneDrive\\Documentos\\ScriptsPython\\ProjetosDeEstudo\\CamaraDosDeputados\\DespesasDeputadosFederais\\connDb.py:11\u001b[0m\n\u001b[0;32m      6\u001b[0m \u001b[39mprint\u001b[39m(config\u001b[39m.\u001b[39msections())\n\u001b[0;32m      9\u001b[0m \u001b[39m\"\"\" Configurações de conexão do banco de dados PostgreSQL \"\"\"\u001b[39;00m\n\u001b[1;32m---> 11\u001b[0m host \u001b[39m=\u001b[39m config[\u001b[39m'\u001b[39m\u001b[39mpostgresql\u001b[39m\u001b[39m'\u001b[39m][\u001b[39m'\u001b[39m\u001b[39mhost\u001b[39m\u001b[39m'\u001b[39m]\n\u001b[0;32m     12\u001b[0m user \u001b[39m=\u001b[39m config[\u001b[39m'\u001b[39m\u001b[39mpostgresql\u001b[39m\u001b[39m'\u001b[39m][\u001b[39m'\u001b[39m\u001b[39muser\u001b[39m\u001b[39m'\u001b[39m]\n\u001b[0;32m     13\u001b[0m passwd \u001b[39m=\u001b[39m config[\u001b[39m'\u001b[39m\u001b[39mpostgresql\u001b[39m\u001b[39m'\u001b[39m][\u001b[39m'\u001b[39m\u001b[39mpassword\u001b[39m\u001b[39m'\u001b[39m]\n",
      "File \u001b[1;32mc:\\Users\\gabri\\anaconda3\\Lib\\configparser.py:979\u001b[0m, in \u001b[0;36mRawConfigParser.__getitem__\u001b[1;34m(self, key)\u001b[0m\n\u001b[0;32m    977\u001b[0m \u001b[39mdef\u001b[39;00m \u001b[39m__getitem__\u001b[39m(\u001b[39mself\u001b[39m, key):\n\u001b[0;32m    978\u001b[0m     \u001b[39mif\u001b[39;00m key \u001b[39m!=\u001b[39m \u001b[39mself\u001b[39m\u001b[39m.\u001b[39mdefault_section \u001b[39mand\u001b[39;00m \u001b[39mnot\u001b[39;00m \u001b[39mself\u001b[39m\u001b[39m.\u001b[39mhas_section(key):\n\u001b[1;32m--> 979\u001b[0m         \u001b[39mraise\u001b[39;00m \u001b[39mKeyError\u001b[39;00m(key)\n\u001b[0;32m    980\u001b[0m     \u001b[39mreturn\u001b[39;00m \u001b[39mself\u001b[39m\u001b[39m.\u001b[39m_proxies[key]\n",
      "\u001b[1;31mKeyError\u001b[0m: 'postgresql'"
     ]
    }
   ],
   "source": [
    "import polars as pl\n",
    "import pandas as pd\n",
    "from functions import stringVaziaToNull, stringCleanExtraSpaces, stringLowerCase\n",
    "import json \n",
    "import time\n",
    "from connDb import path_db"
   ]
  },
  {
   "cell_type": "code",
   "execution_count": null,
   "metadata": {},
   "outputs": [],
   "source": [
    "def getRedeSocialStg() -> pl.LazyFrame:\n",
    "    \"\"\" Lendo os dados da tabela  stg_deputados e  filtrando as redes  sociais  \n",
    "        nulas (5 é  um valor arbitrário, com 2 já é possível filtrar os nulos)\n",
    "    \"\"\"\n",
    "    df = (\n",
    "            pl.read_database_uri('SELECT \"id\", \"redeSocial\" from stg_deputados', path_db)\n",
    "            .filter(pl.col(\"redeSocial\")\n",
    "            .str.len_bytes() > 5)\n",
    "            .lazy()\n",
    "    )\n",
    "\n",
    "    return df"
   ]
  },
  {
   "cell_type": "code",
   "execution_count": null,
   "metadata": {},
   "outputs": [],
   "source": [
    "\n",
    "def transformRedeSocial(df: pl.LazyFrame) -> pl.DataFrame:\n",
    "    \"\"\" Normalizando a coluna de Redes Sociais removendo caracteres especiais e divid\n",
    "        -indo as urls por ','. Depois adicionando um contador que é utilizado em   se\n",
    "        -guida para repetir o Id em uma lista correspondente às urls. Depois  explodi\n",
    "        -mos as duas listas, resultando em uma tabela de mapeamento, onde cada url de\n",
    "        rede social corresponde a um Id de deputado.\n",
    "    \"\"\"\n",
    "    ldf = (\n",
    "            df.with_columns(\n",
    "                pl.col(\"redeSocial\")\n",
    "                .str.replace_all(r'[\\[\\]\"]', '')\n",
    "                .str.split(\", \")\n",
    "            )\n",
    "            .with_columns(\n",
    "                count=pl.col(\"redeSocial\")\n",
    "                .list.len()\n",
    "            )\n",
    "            .select(\n",
    "                pl.col(\"id\").repeat_by(pl.col(\"count\")).alias(\"id_deputado\"),\n",
    "                pl.col(\"redeSocial\")\n",
    "            )\n",
    "            .explode(\"id_deputado\", \"redeSocial\")\n",
    "            .with_columns(\n",
    "                pl.col(\"id_deputado\").cast(pl.Int64)\n",
    "            )\n",
    "    )\n",
    "    \n",
    "    ldf = stringVaziaToNull(ldf)\n",
    "    \n",
    "    ldf = stringCleanExtraSpaces(ldf)\n",
    "    \n",
    "    ldf = stringLowerCase(ldf)\n",
    "    \n",
    "    return ldf.collect()\n"
   ]
  },
  {
   "cell_type": "code",
   "execution_count": null,
   "metadata": {},
   "outputs": [],
   "source": [
    "def loadRedeSocial(df:pl.DataFrame) -> None:\n",
    "    \"\"\" Carregando os dados tratados na tabela final 'rede_social',\n",
    "        apta para ser utilizada em análises futuras. \n",
    "    \"\"\"\n",
    "    try:\n",
    "        df.write_database(\"rede_social\", path_db, if_exists=\"replace\", engine=\"sqlalchemy\")\n",
    "    \n",
    "    except:\n",
    "        print(\"Erro ao carregar dados na tabela 'rede_social'\\n\")\n",
    "        time.sleep(1)\n",
    "    \n",
    "    else:\n",
    "        print(\"Sucesso ao carregar dados na tabela 'rede_social'\\n\")"
   ]
  },
  {
   "cell_type": "code",
   "execution_count": null,
   "metadata": {},
   "outputs": [],
   "source": [
    "def getDeputadosStg() -> pd.DataFrame:\n",
    "    \"\"\" Lendo os dados da tabela  stg_deputados, que será utilizada para norma- \n",
    "        lização da coluna de 'ultimoStatus', que em sua origem se encontra no\n",
    "        formato de string json\n",
    "    \"\"\"\n",
    "    df = pd.read_sql_query('SELECT * from stg_deputados', path_db)\n",
    "\n",
    "    return df\n",
    "\n"
   ]
  },
  {
   "cell_type": "code",
   "execution_count": null,
   "metadata": {},
   "outputs": [],
   "source": [
    "def transformDeputados(df:pd.DataFrame) -> pl.DataFrame:\n",
    "    \"\"\" Realizando as etapas de limpeza e transformação da tabela de deputados.\n",
    "        A princípio estaremos normalizando a coluna 'ultimoStatus', passando-a\n",
    "        do formato string json para novos conjuntos de colunas. Nesta  etapa a\n",
    "        solução mais prática foi adquirida através do Pandas, poréma as etapas\n",
    "        seguintes (de limpeza e padronização das demais strings) foram realiza-\n",
    "        das utilizando expressões do Polars  (uma biblioteca mais perfomática)\n",
    "    \"\"\"\n",
    "    df['ultimoStatus'] = df['ultimoStatus'].apply(json.loads)\n",
    "    \n",
    "    df = pd.concat([df.drop(['ultimoStatus'], axis=1), df['ultimoStatus'].apply(pd.Series)], axis=1).drop(columns=['gabinete'])\n",
    "\n",
    "    ldf = pl.LazyFrame(df).filter(pl.max('idLegislatura'))\n",
    "    \n",
    "    ldf = stringVaziaToNull(ldf)\n",
    "    \n",
    "    ldf = stringCleanExtraSpaces(ldf)\n",
    "    \n",
    "    ldf = stringLowerCase(ldf)\n",
    "\n",
    "    return ldf.collect()"
   ]
  },
  {
   "cell_type": "code",
   "execution_count": null,
   "metadata": {},
   "outputs": [],
   "source": [
    "def loadDeputados(df:pl.DataFrame) -> None:\n",
    "    \"\"\" Carregando os dados tratados na tabela final 'deputados', \n",
    "        apta para ser utilizada em análises futuras. \n",
    "    \"\"\"\n",
    "    try:\n",
    "        df.write_database(\"deputados\", path_db, if_exists=\"replace\", engine=\"sqlalchemy\")\n",
    "    \n",
    "    except:\n",
    "        print(\"Erro ao carregar dados na tabela 'deputados'\\n\")\n",
    "        time.sleep(1)\n",
    "    \n",
    "    else:\n",
    "        print(\"Sucesso ao carregar dados na tabela 'deputados'\\n\")\n",
    "\n"
   ]
  },
  {
   "cell_type": "code",
   "execution_count": null,
   "metadata": {},
   "outputs": [],
   "source": [
    "df = getRedeSocialStg()\n",
    "df = transformRedeSocial(df)\n",
    "loadRedeSocial(df)\n"
   ]
  },
  {
   "cell_type": "code",
   "execution_count": null,
   "metadata": {},
   "outputs": [],
   "source": [
    "df = getDeputadosStg()\n",
    "df = transformDeputados(df)\n",
    "loadDeputados(df)"
   ]
  }
 ],
 "metadata": {
  "kernelspec": {
   "display_name": "base",
   "language": "python",
   "name": "python3"
  },
  "language_info": {
   "codemirror_mode": {
    "name": "ipython",
    "version": 3
   },
   "file_extension": ".py",
   "mimetype": "text/x-python",
   "name": "python",
   "nbconvert_exporter": "python",
   "pygments_lexer": "ipython3",
   "version": "3.11.3"
  }
 },
 "nbformat": 4,
 "nbformat_minor": 2
}
