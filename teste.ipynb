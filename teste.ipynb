{
 "cells": [
  {
   "cell_type": "code",
   "execution_count": 1,
   "metadata": {},
   "outputs": [],
   "source": [
    "import polars as pl\n",
    "import time\n",
    "from connDb import path_db"
   ]
  },
  {
   "cell_type": "code",
   "execution_count": null,
   "metadata": {},
   "outputs": [],
   "source": []
  },
  {
   "cell_type": "code",
   "execution_count": 2,
   "metadata": {},
   "outputs": [],
   "source": [
    "def getRedeSocialStg() -> pl.LazyFrame:\n",
    "    \"\"\" Lendo os dados da tabela  stg_deputados e  filtrando as redes  sociais  \n",
    "        nulas (5 é  um valor arbitrário, com 2 já é possível filtrar os nulos)\n",
    "    \"\"\"\n",
    "    df = (\n",
    "            pl.read_database_uri('SELECT \"id\", \"redeSocial\" from stg_deputados', path_db)\n",
    "            .filter(pl.col(\"redeSocial\")\n",
    "            .str.len_bytes() > 5)\n",
    "            .lazy()\n",
    "    )\n",
    "\n",
    "    return df"
   ]
  },
  {
   "cell_type": "code",
   "execution_count": 3,
   "metadata": {},
   "outputs": [],
   "source": [
    "\n",
    "def transformRedeSocial(df: pl.LazyFrame) -> pl.DataFrame:\n",
    "    \"\"\" Normalizando a coluna de Redes Sociais removendo caracteres especiais e divid\n",
    "        -indo as urls por ','. Depois adicionando um contador que é utilizado em   se\n",
    "        -guida para repetir o Id em uma lista correspondente às urls. Depois  explodi\n",
    "        -mos as duas listas, resultando em uma tabela de mapeamento, onde cada url de\n",
    "        rede social corresponde a um Id de deputado.\n",
    "    \"\"\"\n",
    "    df = (\n",
    "            df.with_columns(\n",
    "                pl.col(\"redeSocial\")\n",
    "                .str.replace_all(r'[\\[\\]\"]', '')\n",
    "                .str.split(\", \")\n",
    "            )\n",
    "            .with_columns(\n",
    "                count=pl.col(\"redeSocial\")\n",
    "                .list.len()\n",
    "            )\n",
    "            .select(\n",
    "                pl.col(\"id\").repeat_by(pl.col(\"count\")).alias(\"id_deputado\"),\n",
    "                pl.col(\"redeSocial\")\n",
    "            )\n",
    "            .explode(\"id_deputado\", \"redeSocial\")\n",
    "            .with_columns(\n",
    "                pl.col(\"id_deputado\").cast(pl.Int64)\n",
    "            )\n",
    "            .collect()\n",
    "    )\n",
    "    \n",
    "    return df\n"
   ]
  },
  {
   "cell_type": "code",
   "execution_count": 4,
   "metadata": {},
   "outputs": [],
   "source": [
    "def loadRedeSocial(df:pl.DataFrame):\n",
    "    \"\"\" Carregando os dados tratados na tabela final 'rede_social', apta para ser\n",
    "        utilizada em análises futuras. \n",
    "    \"\"\"\n",
    "    try:\n",
    "        df.write_database(\"rede_social\", path_db, if_exists=\"replace\", engine=\"sqlalchemy\")\n",
    "    \n",
    "    except:\n",
    "        print(\"Erro ao carregar dados na tabela 'rede_social'\\n\")\n",
    "        time.sleep(1)\n",
    "    else:\n",
    "        print(\"Sucesso ao carregar dados na tabela 'rede_social'\\n\")"
   ]
  },
  {
   "cell_type": "code",
   "execution_count": 5,
   "metadata": {},
   "outputs": [
    {
     "name": "stdout",
     "output_type": "stream",
     "text": [
      "Sucesso ao carregar dados na tabela 'rede_social'\n",
      "\n"
     ]
    }
   ],
   "source": [
    "df = getRedeSocialStg()\n",
    "\n",
    "new_df = transformRedeSocial(df)\n",
    "\n",
    "loadRedeSocial(new_df)\n",
    "\n"
   ]
  },
  {
   "cell_type": "code",
   "execution_count": null,
   "metadata": {},
   "outputs": [],
   "source": []
  }
 ],
 "metadata": {
  "kernelspec": {
   "display_name": "base",
   "language": "python",
   "name": "python3"
  },
  "language_info": {
   "codemirror_mode": {
    "name": "ipython",
    "version": 3
   },
   "file_extension": ".py",
   "mimetype": "text/x-python",
   "name": "python",
   "nbconvert_exporter": "python",
   "pygments_lexer": "ipython3",
   "version": "3.11.3"
  }
 },
 "nbformat": 4,
 "nbformat_minor": 2
}
